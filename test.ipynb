{
 "cells": [
  {
   "cell_type": "code",
   "execution_count": 1,
   "metadata": {
    "collapsed": true
   },
   "outputs": [],
   "source": [
    "import dash\n",
    "from dash import dcc, html, Input, Output, dash_table, Dash, callback\n",
    "import plotly.express as px\n",
    "import pandas as pd\n",
    "import numpy as np"
   ]
  },
  {
   "cell_type": "code",
   "execution_count": 3,
   "outputs": [],
   "source": [
    "def load_and_process_data():\n",
    "      # 生成四个卡片数据（暂定全静态）\n",
    "      card_data = [\n",
    "        {\n",
    "            \"title\": \"营业收入（万元）\",\n",
    "            \"today\": 101,\n",
    "            \"yesterday\": 12,\n",
    "            \"month\": 13,\n",
    "            \"year\": 123\n",
    "        },\n",
    "        {\n",
    "            \"title\": \"营业成本（万元）\",\n",
    "            \"today\": 101,\n",
    "            \"yesterday\": 12,\n",
    "            \"month\": 13,\n",
    "            \"year\": 123\n",
    "        },\n",
    "        {\n",
    "            \"title\": \"利润（万元）\",\n",
    "            \"today\": 101,\n",
    "            \"yesterday\": 12,\n",
    "            \"month\": 13,\n",
    "            \"year\": 123\n",
    "        },\n",
    "        {\n",
    "            \"title\": \"毛利率（%）\",\n",
    "            \"today\": 101,\n",
    "            \"yesterday\": 12,\n",
    "            \"month\": 13,\n",
    "            \"year\": 123\n",
    "        }\n",
    "      ]\n",
    "#     df1 = pd.read_csv('table1.csv')  # 表1处理逻辑\n",
    "#     df2 = pd.read_csv('table2.csv')  # 表2处理逻辑\n",
    "\n",
    "\n",
    "      return {\n",
    "               'card_data': card_data\n",
    "    #         'data1': df1,\n",
    "    #         'data2': df2,\n",
    "    #         # ... 其他处理后的数据集\n",
    "      }\n",
    "\n",
    "processed_data = load_and_process_data() # 初始化数据"
   ],
   "metadata": {
    "collapsed": false
   }
  },
  {
   "cell_type": "code",
   "execution_count": 4,
   "outputs": [
    {
     "data": {
      "text/plain": "{'card_data': [{'title': '营业收入（万元）',\n   'today': 101,\n   'yesterday': 12,\n   'month': 13,\n   'year': 123},\n  {'title': '营业成本（万元）',\n   'today': 101,\n   'yesterday': 12,\n   'month': 13,\n   'year': 123},\n  {'title': '利润（万元）', 'today': 101, 'yesterday': 12, 'month': 13, 'year': 123},\n  {'title': '毛利率（%）',\n   'today': 101,\n   'yesterday': 12,\n   'month': 13,\n   'year': 123}]}"
     },
     "execution_count": 4,
     "metadata": {},
     "output_type": "execute_result"
    }
   ],
   "source": [
    "processed_data"
   ],
   "metadata": {
    "collapsed": false
   }
  },
  {
   "cell_type": "code",
   "execution_count": 8,
   "outputs": [
    {
     "data": {
      "text/plain": "[{'title': '营业收入（万元）',\n  'today': 101,\n  'yesterday': 12,\n  'month': 13,\n  'year': 123},\n {'title': '营业成本（万元）',\n  'today': 101,\n  'yesterday': 12,\n  'month': 13,\n  'year': 123},\n {'title': '利润（万元）', 'today': 101, 'yesterday': 12, 'month': 13, 'year': 123},\n {'title': '毛利率（%）', 'today': 101, 'yesterday': 12, 'month': 13, 'year': 123}]"
     },
     "execution_count": 8,
     "metadata": {},
     "output_type": "execute_result"
    }
   ],
   "source": [
    "cards=processed_data['card_data']\n",
    "cards"
   ],
   "metadata": {
    "collapsed": false
   }
  },
  {
   "cell_type": "code",
   "execution_count": 9,
   "outputs": [
    {
     "data": {
      "text/plain": "{'title': '营业收入（万元）', 'today': 101, 'yesterday': 12, 'month': 13, 'year': 123}"
     },
     "execution_count": 9,
     "metadata": {},
     "output_type": "execute_result"
    }
   ],
   "source": [
    "# 访问第一个卡片的标题\n",
    "cards[0] # 正确！"
   ],
   "metadata": {
    "collapsed": false
   }
  },
  {
   "cell_type": "markdown",
   "source": [],
   "metadata": {
    "collapsed": false
   }
  },
  {
   "cell_type": "code",
   "execution_count": 10,
   "outputs": [
    {
     "name": "stdout",
     "output_type": "stream",
     "text": [
      "{'title': '营业收入（万元）', 'today': 101, 'yesterday': 12, 'month': 13, 'year': 123}\n",
      "{'title': '营业成本（万元）', 'today': 101, 'yesterday': 12, 'month': 13, 'year': 123}\n",
      "{'title': '利润（万元）', 'today': 101, 'yesterday': 12, 'month': 13, 'year': 123}\n",
      "{'title': '毛利率（%）', 'today': 101, 'yesterday': 12, 'month': 13, 'year': 123}\n"
     ]
    }
   ],
   "source": [
    "# 遍历所有卡片\n",
    "for card in cards:\n",
    "    print(card)"
   ],
   "metadata": {
    "collapsed": false
   }
  },
  {
   "cell_type": "code",
   "execution_count": 12,
   "outputs": [
    {
     "name": "stdout",
     "output_type": "stream",
     "text": [
      "0 {'title': '营业收入（万元）', 'today': 101, 'yesterday': 12, 'month': 13, 'year': 123}\n",
      "1 {'title': '营业成本（万元）', 'today': 101, 'yesterday': 12, 'month': 13, 'year': 123}\n",
      "2 {'title': '利润（万元）', 'today': 101, 'yesterday': 12, 'month': 13, 'year': 123}\n",
      "3 {'title': '毛利率（%）', 'today': 101, 'yesterday': 12, 'month': 13, 'year': 123}\n"
     ]
    }
   ],
   "source": [
    "for i,card in enumerate(cards):\n",
    "    print(i,card)"
   ],
   "metadata": {
    "collapsed": false
   }
  },
  {
   "cell_type": "code",
   "execution_count": 14,
   "outputs": [],
   "source": [
    "# 同理\n",
    "nav_items = [\n",
    "    {\"label\": \"经营概览\", \"path\": \"/\"},\n",
    "    {\"label\": \"营业收入\", \"path\": \"/revenue\"},\n",
    "    {\"label\": \"营业成本\", \"path\": \"/cost\"},\n",
    "    {\"label\": \"毛利率\", \"path\": \"/gross-margin\"},\n",
    "    {\"label\": \"利润率\", \"path\": \"/profit-margin\"}\n",
    "]"
   ],
   "metadata": {
    "collapsed": false
   }
  },
  {
   "cell_type": "code",
   "execution_count": 15,
   "outputs": [
    {
     "data": {
      "text/plain": "{'label': '经营概览', 'path': '/'}"
     },
     "execution_count": 15,
     "metadata": {},
     "output_type": "execute_result"
    }
   ],
   "source": [
    "nav_items[0]"
   ],
   "metadata": {
    "collapsed": false
   }
  },
  {
   "cell_type": "code",
   "execution_count": 23,
   "outputs": [
    {
     "name": "stdout",
     "output_type": "stream",
     "text": [
      "0 {'label': '经营概览', 'path': '/'}\n",
      "------------\n",
      "label,经营概览\n",
      "path,/\n",
      "1 {'label': '营业收入', 'path': '/revenue'}\n",
      "------------\n",
      "label,营业收入\n",
      "path,/revenue\n",
      "2 {'label': '营业成本', 'path': '/cost'}\n",
      "------------\n",
      "label,营业成本\n",
      "path,/cost\n",
      "3 {'label': '毛利率', 'path': '/gross-margin'}\n",
      "------------\n",
      "label,毛利率\n",
      "path,/gross-margin\n",
      "4 {'label': '利润率', 'path': '/profit-margin'}\n",
      "------------\n",
      "label,利润率\n",
      "path,/profit-margin\n"
     ]
    }
   ],
   "source": [
    "for i, item in enumerate(nav_items):\n",
    "    print(i,item)\n",
    "    print('------------')\n",
    "    for key,value in item.items():\n",
    "        print(f\"{key},{value}\")"
   ],
   "metadata": {
    "collapsed": false
   }
  },
  {
   "cell_type": "code",
   "execution_count": 19,
   "outputs": [
    {
     "name": "stdout",
     "output_type": "stream",
     "text": [
      "label path\n",
      "label path\n",
      "label path\n",
      "label path\n",
      "label path\n"
     ]
    }
   ],
   "source": [
    "for i, item in nav_items:\n",
    "    print(i,item) # 只在整体变色时候用"
   ],
   "metadata": {
    "collapsed": false
   }
  },
  {
   "cell_type": "code",
   "execution_count": 2,
   "outputs": [
    {
     "data": {
      "text/plain": "    部门  指标  目标值  完成值\n0  销售部  收入  800  720\n1  市场部  收入  500  450\n2  研发部  收入  600  540\n3  销售部  利润  200  180\n4  市场部  利润  150  140\n5  研发部  利润  180  162",
      "text/html": "<div>\n<style scoped>\n    .dataframe tbody tr th:only-of-type {\n        vertical-align: middle;\n    }\n\n    .dataframe tbody tr th {\n        vertical-align: top;\n    }\n\n    .dataframe thead th {\n        text-align: right;\n    }\n</style>\n<table border=\"1\" class=\"dataframe\">\n  <thead>\n    <tr style=\"text-align: right;\">\n      <th></th>\n      <th>部门</th>\n      <th>指标</th>\n      <th>目标值</th>\n      <th>完成值</th>\n    </tr>\n  </thead>\n  <tbody>\n    <tr>\n      <th>0</th>\n      <td>销售部</td>\n      <td>收入</td>\n      <td>800</td>\n      <td>720</td>\n    </tr>\n    <tr>\n      <th>1</th>\n      <td>市场部</td>\n      <td>收入</td>\n      <td>500</td>\n      <td>450</td>\n    </tr>\n    <tr>\n      <th>2</th>\n      <td>研发部</td>\n      <td>收入</td>\n      <td>600</td>\n      <td>540</td>\n    </tr>\n    <tr>\n      <th>3</th>\n      <td>销售部</td>\n      <td>利润</td>\n      <td>200</td>\n      <td>180</td>\n    </tr>\n    <tr>\n      <th>4</th>\n      <td>市场部</td>\n      <td>利润</td>\n      <td>150</td>\n      <td>140</td>\n    </tr>\n    <tr>\n      <th>5</th>\n      <td>研发部</td>\n      <td>利润</td>\n      <td>180</td>\n      <td>162</td>\n    </tr>\n  </tbody>\n</table>\n</div>"
     },
     "execution_count": 2,
     "metadata": {},
     "output_type": "execute_result"
    }
   ],
   "source": [
    "df = pd.DataFrame({\n",
    "    '部门': ['销售部', '市场部', '研发部', '销售部', '市场部', '研发部'],\n",
    "    '指标': ['收入', '收入', '收入', '利润', '利润', '利润'],\n",
    "    '目标值': [800, 500, 600, 200, 150, 180],\n",
    "    '完成值': [720, 450, 540, 180, 140, 162]\n",
    "})\n",
    "df"
   ],
   "metadata": {
    "collapsed": false
   }
  },
  {
   "cell_type": "code",
   "execution_count": 4,
   "outputs": [
    {
     "data": {
      "text/plain": "         部门         时间  目标值-收入(不含税 万元)  完成值-收入(不含税 万元)  目标值-毛利润(不含税 万元)  \\\n0     合营事业部 2024-01-01            1000           900.0             30.0   \n1     合营事业部 2024-02-01             900          1000.0             27.0   \n2     合营事业部 2024-03-01             900           900.0             27.0   \n3     合营事业部 2024-04-01             800           800.0             24.0   \n4     合营事业部 2024-05-01             800           800.0             24.0   \n5     合营事业部 2024-06-01             800          1000.0             24.0   \n6     合营事业部 2024-07-01             800           900.0             24.0   \n7     合营事业部 2024-08-01             700           600.0             21.0   \n8     合营事业部 2024-09-01             700           650.0             21.0   \n9     合营事业部 2024-10-01             700             NaN             21.0   \n10    合营事业部 2024-11-01             750             NaN             22.5   \n11    合营事业部 2024-12-01             800             NaN             24.0   \n12   供应链事业部 2024-01-01             500           500.0             15.0   \n13   供应链事业部 2024-02-01             500           600.0             15.0   \n14   供应链事业部 2024-03-01             500           500.0             15.0   \n15   供应链事业部 2024-04-01             600           700.0             18.0   \n16   供应链事业部 2024-05-01             600           700.0             18.0   \n17   供应链事业部 2024-06-01             600           600.0             18.0   \n18   供应链事业部 2024-07-01             700           700.0             21.0   \n19   供应链事业部 2024-08-01             650           660.0             19.5   \n20   供应链事业部 2024-09-01             660           660.0             19.8   \n21   供应链事业部 2024-10-01             670             NaN             20.1   \n22   供应链事业部 2024-11-01             680             NaN             20.4   \n23   供应链事业部 2024-12-01             690             NaN             20.7   \n24  快递快运事业部 2024-01-01             600           500.0             18.0   \n25  快递快运事业部 2024-02-01             600           800.0             18.0   \n26  快递快运事业部 2024-03-01             600           700.0             18.0   \n27  快递快运事业部 2024-04-01             650           680.0             19.5   \n28  快递快运事业部 2024-05-01             600           600.0             18.0   \n29  快递快运事业部 2024-06-01             700           900.0             21.0   \n30  快递快运事业部 2024-07-01             800           800.0             24.0   \n31  快递快运事业部 2024-08-01             600           650.0             18.0   \n32  快递快运事业部 2024-09-01             650           650.0             19.5   \n33  快递快运事业部 2024-10-01             700             NaN             21.0   \n34  快递快运事业部 2024-11-01             800             NaN             24.0   \n35  快递快运事业部 2024-12-01             900             NaN             27.0   \n\n    完成值-毛利润(不含税 万元)  \n0             22.50  \n1             25.00  \n2             22.50  \n3             20.00  \n4             20.00  \n5             25.00  \n6             22.50  \n7             15.00  \n8             16.25  \n9               NaN  \n10              NaN  \n11              NaN  \n12            12.50  \n13            15.00  \n14            12.50  \n15            24.50  \n16            24.50  \n17            21.00  \n18            24.50  \n19            23.10  \n20            23.10  \n21              NaN  \n22              NaN  \n23              NaN  \n24            17.50  \n25            28.00  \n26            24.50  \n27            23.80  \n28            21.00  \n29            31.50  \n30            28.00  \n31            22.75  \n32            22.75  \n33              NaN  \n34              NaN  \n35              NaN  ",
      "text/html": "<div>\n<style scoped>\n    .dataframe tbody tr th:only-of-type {\n        vertical-align: middle;\n    }\n\n    .dataframe tbody tr th {\n        vertical-align: top;\n    }\n\n    .dataframe thead th {\n        text-align: right;\n    }\n</style>\n<table border=\"1\" class=\"dataframe\">\n  <thead>\n    <tr style=\"text-align: right;\">\n      <th></th>\n      <th>部门</th>\n      <th>时间</th>\n      <th>目标值-收入(不含税 万元)</th>\n      <th>完成值-收入(不含税 万元)</th>\n      <th>目标值-毛利润(不含税 万元)</th>\n      <th>完成值-毛利润(不含税 万元)</th>\n    </tr>\n  </thead>\n  <tbody>\n    <tr>\n      <th>0</th>\n      <td>合营事业部</td>\n      <td>2024-01-01</td>\n      <td>1000</td>\n      <td>900.0</td>\n      <td>30.0</td>\n      <td>22.50</td>\n    </tr>\n    <tr>\n      <th>1</th>\n      <td>合营事业部</td>\n      <td>2024-02-01</td>\n      <td>900</td>\n      <td>1000.0</td>\n      <td>27.0</td>\n      <td>25.00</td>\n    </tr>\n    <tr>\n      <th>2</th>\n      <td>合营事业部</td>\n      <td>2024-03-01</td>\n      <td>900</td>\n      <td>900.0</td>\n      <td>27.0</td>\n      <td>22.50</td>\n    </tr>\n    <tr>\n      <th>3</th>\n      <td>合营事业部</td>\n      <td>2024-04-01</td>\n      <td>800</td>\n      <td>800.0</td>\n      <td>24.0</td>\n      <td>20.00</td>\n    </tr>\n    <tr>\n      <th>4</th>\n      <td>合营事业部</td>\n      <td>2024-05-01</td>\n      <td>800</td>\n      <td>800.0</td>\n      <td>24.0</td>\n      <td>20.00</td>\n    </tr>\n    <tr>\n      <th>5</th>\n      <td>合营事业部</td>\n      <td>2024-06-01</td>\n      <td>800</td>\n      <td>1000.0</td>\n      <td>24.0</td>\n      <td>25.00</td>\n    </tr>\n    <tr>\n      <th>6</th>\n      <td>合营事业部</td>\n      <td>2024-07-01</td>\n      <td>800</td>\n      <td>900.0</td>\n      <td>24.0</td>\n      <td>22.50</td>\n    </tr>\n    <tr>\n      <th>7</th>\n      <td>合营事业部</td>\n      <td>2024-08-01</td>\n      <td>700</td>\n      <td>600.0</td>\n      <td>21.0</td>\n      <td>15.00</td>\n    </tr>\n    <tr>\n      <th>8</th>\n      <td>合营事业部</td>\n      <td>2024-09-01</td>\n      <td>700</td>\n      <td>650.0</td>\n      <td>21.0</td>\n      <td>16.25</td>\n    </tr>\n    <tr>\n      <th>9</th>\n      <td>合营事业部</td>\n      <td>2024-10-01</td>\n      <td>700</td>\n      <td>NaN</td>\n      <td>21.0</td>\n      <td>NaN</td>\n    </tr>\n    <tr>\n      <th>10</th>\n      <td>合营事业部</td>\n      <td>2024-11-01</td>\n      <td>750</td>\n      <td>NaN</td>\n      <td>22.5</td>\n      <td>NaN</td>\n    </tr>\n    <tr>\n      <th>11</th>\n      <td>合营事业部</td>\n      <td>2024-12-01</td>\n      <td>800</td>\n      <td>NaN</td>\n      <td>24.0</td>\n      <td>NaN</td>\n    </tr>\n    <tr>\n      <th>12</th>\n      <td>供应链事业部</td>\n      <td>2024-01-01</td>\n      <td>500</td>\n      <td>500.0</td>\n      <td>15.0</td>\n      <td>12.50</td>\n    </tr>\n    <tr>\n      <th>13</th>\n      <td>供应链事业部</td>\n      <td>2024-02-01</td>\n      <td>500</td>\n      <td>600.0</td>\n      <td>15.0</td>\n      <td>15.00</td>\n    </tr>\n    <tr>\n      <th>14</th>\n      <td>供应链事业部</td>\n      <td>2024-03-01</td>\n      <td>500</td>\n      <td>500.0</td>\n      <td>15.0</td>\n      <td>12.50</td>\n    </tr>\n    <tr>\n      <th>15</th>\n      <td>供应链事业部</td>\n      <td>2024-04-01</td>\n      <td>600</td>\n      <td>700.0</td>\n      <td>18.0</td>\n      <td>24.50</td>\n    </tr>\n    <tr>\n      <th>16</th>\n      <td>供应链事业部</td>\n      <td>2024-05-01</td>\n      <td>600</td>\n      <td>700.0</td>\n      <td>18.0</td>\n      <td>24.50</td>\n    </tr>\n    <tr>\n      <th>17</th>\n      <td>供应链事业部</td>\n      <td>2024-06-01</td>\n      <td>600</td>\n      <td>600.0</td>\n      <td>18.0</td>\n      <td>21.00</td>\n    </tr>\n    <tr>\n      <th>18</th>\n      <td>供应链事业部</td>\n      <td>2024-07-01</td>\n      <td>700</td>\n      <td>700.0</td>\n      <td>21.0</td>\n      <td>24.50</td>\n    </tr>\n    <tr>\n      <th>19</th>\n      <td>供应链事业部</td>\n      <td>2024-08-01</td>\n      <td>650</td>\n      <td>660.0</td>\n      <td>19.5</td>\n      <td>23.10</td>\n    </tr>\n    <tr>\n      <th>20</th>\n      <td>供应链事业部</td>\n      <td>2024-09-01</td>\n      <td>660</td>\n      <td>660.0</td>\n      <td>19.8</td>\n      <td>23.10</td>\n    </tr>\n    <tr>\n      <th>21</th>\n      <td>供应链事业部</td>\n      <td>2024-10-01</td>\n      <td>670</td>\n      <td>NaN</td>\n      <td>20.1</td>\n      <td>NaN</td>\n    </tr>\n    <tr>\n      <th>22</th>\n      <td>供应链事业部</td>\n      <td>2024-11-01</td>\n      <td>680</td>\n      <td>NaN</td>\n      <td>20.4</td>\n      <td>NaN</td>\n    </tr>\n    <tr>\n      <th>23</th>\n      <td>供应链事业部</td>\n      <td>2024-12-01</td>\n      <td>690</td>\n      <td>NaN</td>\n      <td>20.7</td>\n      <td>NaN</td>\n    </tr>\n    <tr>\n      <th>24</th>\n      <td>快递快运事业部</td>\n      <td>2024-01-01</td>\n      <td>600</td>\n      <td>500.0</td>\n      <td>18.0</td>\n      <td>17.50</td>\n    </tr>\n    <tr>\n      <th>25</th>\n      <td>快递快运事业部</td>\n      <td>2024-02-01</td>\n      <td>600</td>\n      <td>800.0</td>\n      <td>18.0</td>\n      <td>28.00</td>\n    </tr>\n    <tr>\n      <th>26</th>\n      <td>快递快运事业部</td>\n      <td>2024-03-01</td>\n      <td>600</td>\n      <td>700.0</td>\n      <td>18.0</td>\n      <td>24.50</td>\n    </tr>\n    <tr>\n      <th>27</th>\n      <td>快递快运事业部</td>\n      <td>2024-04-01</td>\n      <td>650</td>\n      <td>680.0</td>\n      <td>19.5</td>\n      <td>23.80</td>\n    </tr>\n    <tr>\n      <th>28</th>\n      <td>快递快运事业部</td>\n      <td>2024-05-01</td>\n      <td>600</td>\n      <td>600.0</td>\n      <td>18.0</td>\n      <td>21.00</td>\n    </tr>\n    <tr>\n      <th>29</th>\n      <td>快递快运事业部</td>\n      <td>2024-06-01</td>\n      <td>700</td>\n      <td>900.0</td>\n      <td>21.0</td>\n      <td>31.50</td>\n    </tr>\n    <tr>\n      <th>30</th>\n      <td>快递快运事业部</td>\n      <td>2024-07-01</td>\n      <td>800</td>\n      <td>800.0</td>\n      <td>24.0</td>\n      <td>28.00</td>\n    </tr>\n    <tr>\n      <th>31</th>\n      <td>快递快运事业部</td>\n      <td>2024-08-01</td>\n      <td>600</td>\n      <td>650.0</td>\n      <td>18.0</td>\n      <td>22.75</td>\n    </tr>\n    <tr>\n      <th>32</th>\n      <td>快递快运事业部</td>\n      <td>2024-09-01</td>\n      <td>650</td>\n      <td>650.0</td>\n      <td>19.5</td>\n      <td>22.75</td>\n    </tr>\n    <tr>\n      <th>33</th>\n      <td>快递快运事业部</td>\n      <td>2024-10-01</td>\n      <td>700</td>\n      <td>NaN</td>\n      <td>21.0</td>\n      <td>NaN</td>\n    </tr>\n    <tr>\n      <th>34</th>\n      <td>快递快运事业部</td>\n      <td>2024-11-01</td>\n      <td>800</td>\n      <td>NaN</td>\n      <td>24.0</td>\n      <td>NaN</td>\n    </tr>\n    <tr>\n      <th>35</th>\n      <td>快递快运事业部</td>\n      <td>2024-12-01</td>\n      <td>900</td>\n      <td>NaN</td>\n      <td>27.0</td>\n      <td>NaN</td>\n    </tr>\n  </tbody>\n</table>\n</div>"
     },
     "execution_count": 4,
     "metadata": {},
     "output_type": "execute_result"
    }
   ],
   "source": [
    "target = pd.read_excel('/Users/shibo/pythonProject1/可视化/target.xlsx')\n",
    "target"
   ],
   "metadata": {
    "collapsed": false
   }
  },
  {
   "cell_type": "code",
   "execution_count": 12,
   "outputs": [
    {
     "data": {
      "text/plain": "<Figure size 640x480 with 1 Axes>",
      "image/png": "[encoded data removed]"
     },
     "metadata": {},
     "output_type": "display_data"
    }
   ],
   "source": [
    "import matplotlib.pyplot as plt\n",
    "\n",
    "# 定义红黄绿三种颜色的RGB值\n",
    "colors = ['#FFCDD2', '#FFF176', '#C8E6C9']  # 红色、黄色、绿色\n",
    "\n",
    "# 创建一个图形和坐标轴\n",
    "fig, ax = plt.subplots()\n",
    "\n",
    "# 在坐标轴上绘制颜色块\n",
    "for i, color in enumerate(colors):\n",
    "    ax.add_patch(plt.Rectangle((i, 0), 1, 1, color=color))\n",
    "\n",
    "# 设置坐标轴范围和刻度\n",
    "ax.set_xlim(0, len(colors))\n",
    "ax.set_ylim(0, 1)\n",
    "ax.set_xticks([])\n",
    "ax.set_yticks([])\n",
    "\n",
    "# 显示图形\n",
    "plt.show()"
   ],
   "metadata": {
    "collapsed": false
   }
  },
  {
   "cell_type": "code",
   "execution_count": null,
   "outputs": [],
   "source": [],
   "metadata": {
    "collapsed": false
   }
  }
 ],
 "metadata": {
  "kernelspec": {
   "display_name": "Python 3",
   "language": "python",
   "name": "python3"
  },
  "language_info": {
   "codemirror_mode": {
    "name": "ipython",
    "version": 2
   },
   "file_extension": ".py",
   "mimetype": "text/x-python",
   "name": "python",
   "nbconvert_exporter": "python",
   "pygments_lexer": "ipython2",
   "version": "2.7.6"
  }
 },
 "nbformat": 4,
 "nbformat_minor": 0
}
