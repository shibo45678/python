{
 "cells": [
  {
   "cell_type": "code",
   "execution_count": 1,
   "outputs": [],
   "source": [
    "# from jupyter_dash import JupyterDash\n",
    "# from dash import dcc, html, Input, Output\n",
    "# import plotly.express as px\n",
    "import pandas as pd\n",
    "import numpy as np"
   ],
   "metadata": {
    "collapsed": false
   }
  },
  {
   "cell_type": "code",
   "execution_count": 2,
   "outputs": [],
   "source": [
    "def load_and_process_data():\n",
    "    # 生成四个卡片数据（暂定全静态）\n",
    "    card_data = [\n",
    "        {\n",
    "            \"title\": \"营业收入（万元）\",\n",
    "            \"today\": 101,\n",
    "            \"yesterday\": 12,\n",
    "            \"month\": 13,\n",
    "            \"year\": 123\n",
    "        },\n",
    "        {\n",
    "            \"title\": \"营业成本（万元）\",\n",
    "            \"today\": 101,\n",
    "            \"yesterday\": 12,\n",
    "            \"month\": 13,\n",
    "            \"year\": 123\n",
    "        },\n",
    "        {\n",
    "            \"title\": \"利润（万元）\",\n",
    "            \"today\": 101,\n",
    "            \"yesterday\": 12,\n",
    "            \"month\": 13,\n",
    "            \"year\": 123\n",
    "        },\n",
    "        {\n",
    "            \"title\": \"毛利率（%）\",\n",
    "            \"today\": 101,\n",
    "            \"yesterday\": 12,\n",
    "            \"month\": 13,\n",
    "            \"year\": 123\n",
    "        }\n",
    "    ]\n",
    "    # 运营数据\n",
    "    operational= pd.read_excel('/Users/shibo/pythonProject1/可视化/operational_data.xlsx', sheet_name='Sheet1')\n",
    "    # KPI数据\n",
    "    kpi = pd.read_excel('/Users/shibo/pythonProject1/可视化/KPI_tracking.xlsx')\n",
    "\n",
    "\n",
    "\n",
    "    return {\n",
    "        'card_data': card_data,\n",
    "        'operational_data': operational,\n",
    "        'kpi_data': kpi\n",
    "\n",
    "    }\n",
    "processed_data = load_and_process_data()"
   ],
   "metadata": {
    "collapsed": false
   }
  },
  {
   "cell_type": "code",
   "execution_count": 3,
   "outputs": [
    {
     "data": {
      "text/plain": "0     2023-01\n1     2023-02\n2     2023-03\n3     2023-04\n4     2023-05\n5     2023-06\n6     2023-07\n7     2023-08\n8     2023-09\n9     2023-10\n10    2023-11\n11    2023-12\n12    2023-01\n13    2023-02\n14    2023-03\n15    2023-04\n16    2023-05\n17    2023-06\n18    2023-07\n19    2023-08\n20    2023-09\n21    2023-10\n22    2023-11\n23    2023-12\n24    2023-01\n25    2023-02\n26    2023-03\n27    2023-04\n28    2023-05\n29    2023-06\n30    2023-07\n31    2023-08\n32    2023-09\n33    2023-10\n34    2023-11\n35    2023-12\nName: 时间, dtype: object"
     },
     "execution_count": 3,
     "metadata": {},
     "output_type": "execute_result"
    }
   ],
   "source": [
    "processed_data['kpi_data']['时间']"
   ],
   "metadata": {
    "collapsed": false
   }
  },
  {
   "cell_type": "markdown",
   "source": [
    "## 去掉时间里面的日期"
   ],
   "metadata": {
    "collapsed": false
   }
  },
  {
   "cell_type": "raw",
   "source": [
    "processed_data['kpi_data']['时间'].dtype"
   ],
   "metadata": {
    "collapsed": false
   }
  },
  {
   "cell_type": "raw",
   "source": [
    "转换成字符串，如果不需要计算；\n",
    "需要计算，转回时间（不推荐）。"
   ],
   "metadata": {
    "collapsed": false
   }
  },
  {
   "cell_type": "raw",
   "source": [
    "# l='2024-01-01' 字符串切片\n",
    "# l[0:7] '2024-01'\n",
    "from datetime import datetime as dt\n",
    "\n",
    "time_series = processed_data['kpi_data']['时间']\n",
    "formatted_series = time_series.dt.strftime('%Y-%m')  # 格式化为 'YYYY-MM'\n",
    "f = formatted_series.to_frame()  # 转换为 DataFrame\n",
    "processed_data['kpi_data']['时间'] = f\n",
    "\n",
    "processed_data['kpi_data']['时间'].dtype # 成文本格式，再转回时间格式"
   ],
   "metadata": {
    "collapsed": false
   }
  },
  {
   "cell_type": "raw",
   "source": [
    "# for index,row in processed_data['kpi_data'].iterrows():\n",
    "#     processed_data['kpi_data']['时间'] = row['时间'].strptime('%Y-%m') 错1\n",
    "#     不好，iterrows() 循环修改 DataFrame 效率很低，应该避免在循环中逐行修改。\n",
    "#     .strptime() 是 Python datetime 模块的方法，不是 Pandas Series 的方法\n",
    "\n",
    "# pd.to_datetime()）来批量转换\"字符串\"->\"datetime\" 类型\n",
    "processed_data['kpi_data']['时间'] = pd.to_datetime(\n",
    "    processed_data['kpi_data']['时间'],\n",
    "    format='%Y-%m'\n",
    ")\n",
    "processed_data['kpi_data']"
   ],
   "metadata": {
    "collapsed": false
   }
  },
  {
   "cell_type": "raw",
   "source": [
    "推荐方法，转换为Period类型（仍是时间，支持时间运算）\n",
    "是 Pandas Series 的用法，\n",
    "datetime.datetime 是 Python 内置类，没有 to_period() 方（dt.now().to_period('M')错"
   ],
   "metadata": {
    "collapsed": false
   }
  },
  {
   "cell_type": "raw",
   "source": [
    "from datetime import datetime as dt\n",
    "processed_data['kpi_data']['时间'] = processed_data['kpi_data']['时间'].dt.to_period('M')\n",
    "processed_data['kpi_data']['时间']"
   ],
   "metadata": {
    "collapsed": false
   }
  },
  {
   "cell_type": "raw",
   "source": [
    "processed_data['kpi_data'].to_excel('KPI tracking.xlsx')"
   ],
   "metadata": {
    "collapsed": false
   }
  },
  {
   "cell_type": "raw",
   "source": [
    "datetime.datetime 是 Python 内置类，没有 to_period() 方法（dt.now().to_period('M')错；\n",
    "需要先转成 Pandas 的 Timestamp，再转换。"
   ],
   "metadata": {
    "collapsed": false
   }
  },
  {
   "cell_type": "raw",
   "source": [
    "from datetime import datetime as dt, date, time\n",
    "import pandas as pd\n",
    "\n",
    "# 现在\n",
    "dt.now() # 输出 datetime.datetime(2025, 6, 8, 13, 59, 10, 156733)\n",
    "print(dt.now()) # 2025-06-08 14:27:55.615502\n",
    "\n",
    "# 今天\n",
    "today = pd.Timestamp(dt.now()).to_period('D')\n",
    "today # Period('2025-06-08', 'D')\n",
    "\n",
    "# 数据是 datetime 列表，用 Pandas 转\n",
    "dates = [dt(2023, 1, 15), dt(2023, 2, 20)]\n",
    "periods = pd.Series(pd.to_datetime(dates)).dt.to_period('M')\n",
    "print(periods)\n",
    "# 0    2023-01\n",
    "# 1    2023-02\n",
    "\n",
    "# dt的时间格式化与解析\n",
    "# 时间 → 字符串\n",
    "dt.now().strftime(\"%Y-%m-%d %H:%M:%S\") # 输出 '2025-06-08 14:24:43'\n",
    "# 字符串 → 时间\n",
    "print(dt.strptime(\"2023-01-01\", \"%Y-%m-%d\")) # 输出（加print）2023-01-01 00:00:00\n",
    "\n",
    "# 时间属性提取\n",
    "now = dt.now() # 打印输出 2025-06-08 14:31:01.441118\n",
    "year = now.year # 2025\n",
    "month = now.month\n",
    "day = now.day\n",
    "hour = now.hour\n",
    "weekday = now.weekday() # 0-6表示周一到周日 6:周日\n",
    "\n",
    "\n",
    "from datetime import timedelta,date\n",
    "date.today() # print 2025-06-08\n",
    "\n",
    "future = date.today()+ timedelta(days=7) # print(future) 2025-06-15\n",
    "past = date.today() - timedelta(hours=3) # 2025-06-08\n",
    "print(future,past)"
   ],
   "metadata": {
    "collapsed": false
   }
  },
  {
   "cell_type": "raw",
   "source": [
    "# 今天from datetime import datetime as dt,date\n",
    "date.today() # datetime.date(2025, 6, 8)\n",
    "print(date.today())"
   ],
   "metadata": {
    "collapsed": false
   }
  },
  {
   "cell_type": "raw",
   "source": [],
   "metadata": {
    "collapsed": false
   }
  },
  {
   "cell_type": "code",
   "execution_count": 4,
   "outputs": [],
   "source": [
    "options=[{'label': dept, 'value': dept} for dept in processed_data['kpi_data']['部门'].unique()],"
   ],
   "metadata": {
    "collapsed": false
   }
  },
  {
   "cell_type": "code",
   "execution_count": 5,
   "outputs": [],
   "source": [
    "def generate_sample_data():\n",
    "    years = [2020, 2021, 2022, 2023]\n",
    "    departments = ['销售部', '市场部', '技术部', '财务部']\n",
    "    categories = ['电子产品', '家居用品', '服装', '食品']\n",
    "\n",
    "    data = []\n",
    "    for year in years:\n",
    "        for dept in departments:\n",
    "            for cat in categories:\n",
    "                data.append({\n",
    "                    '年份': year,\n",
    "                    '部门': dept,\n",
    "                    '产品类别': cat,\n",
    "                    '销售额': np.random.randint(50, 200),\n",
    "                    '利润': np.random.randint(10, 50),\n",
    "                    '客户数': np.random.randint(20, 100)\n",
    "                })\n",
    "    return pd.DataFrame(data)\n",
    "df = generate_sample_data()\n",
    "filtered_df = df\n"
   ],
   "metadata": {
    "collapsed": false
   }
  },
  {
   "cell_type": "code",
   "execution_count": 5,
   "outputs": [],
   "source": [],
   "metadata": {
    "collapsed": false
   }
  },
  {
   "cell_type": "code",
   "execution_count": 6,
   "outputs": [
    {
     "data": {
      "text/plain": "      年份   部门  产品类别  销售额  利润  客户数\n0   2020  销售部  电子产品  178  12   78\n1   2020  销售部  家居用品  129  38   25\n2   2020  销售部    服装  116  24   55\n3   2020  销售部    食品  188  22   25\n4   2020  市场部  电子产品  127  48   88\n..   ...  ...   ...  ...  ..  ...\n59  2023  技术部    食品   58  41   69\n60  2023  财务部  电子产品  195  21   73\n61  2023  财务部  家居用品  128  22   48\n62  2023  财务部    服装  164  37   78\n63  2023  财务部    食品   59  12   22\n\n[64 rows x 6 columns]",
      "text/html": "<div>\n<style scoped>\n    .dataframe tbody tr th:only-of-type {\n        vertical-align: middle;\n    }\n\n    .dataframe tbody tr th {\n        vertical-align: top;\n    }\n\n    .dataframe thead th {\n        text-align: right;\n    }\n</style>\n<table border=\"1\" class=\"dataframe\">\n  <thead>\n    <tr style=\"text-align: right;\">\n      <th></th>\n      <th>年份</th>\n      <th>部门</th>\n      <th>产品类别</th>\n      <th>销售额</th>\n      <th>利润</th>\n      <th>客户数</th>\n    </tr>\n  </thead>\n  <tbody>\n    <tr>\n      <th>0</th>\n      <td>2020</td>\n      <td>销售部</td>\n      <td>电子产品</td>\n      <td>178</td>\n      <td>12</td>\n      <td>78</td>\n    </tr>\n    <tr>\n      <th>1</th>\n      <td>2020</td>\n      <td>销售部</td>\n      <td>家居用品</td>\n      <td>129</td>\n      <td>38</td>\n      <td>25</td>\n    </tr>\n    <tr>\n      <th>2</th>\n      <td>2020</td>\n      <td>销售部</td>\n      <td>服装</td>\n      <td>116</td>\n      <td>24</td>\n      <td>55</td>\n    </tr>\n    <tr>\n      <th>3</th>\n      <td>2020</td>\n      <td>销售部</td>\n      <td>食品</td>\n      <td>188</td>\n      <td>22</td>\n      <td>25</td>\n    </tr>\n    <tr>\n      <th>4</th>\n      <td>2020</td>\n      <td>市场部</td>\n      <td>电子产品</td>\n      <td>127</td>\n      <td>48</td>\n      <td>88</td>\n    </tr>\n    <tr>\n      <th>...</th>\n      <td>...</td>\n      <td>...</td>\n      <td>...</td>\n      <td>...</td>\n      <td>...</td>\n      <td>...</td>\n    </tr>\n    <tr>\n      <th>59</th>\n      <td>2023</td>\n      <td>技术部</td>\n      <td>食品</td>\n      <td>58</td>\n      <td>41</td>\n      <td>69</td>\n    </tr>\n    <tr>\n      <th>60</th>\n      <td>2023</td>\n      <td>财务部</td>\n      <td>电子产品</td>\n      <td>195</td>\n      <td>21</td>\n      <td>73</td>\n    </tr>\n    <tr>\n      <th>61</th>\n      <td>2023</td>\n      <td>财务部</td>\n      <td>家居用品</td>\n      <td>128</td>\n      <td>22</td>\n      <td>48</td>\n    </tr>\n    <tr>\n      <th>62</th>\n      <td>2023</td>\n      <td>财务部</td>\n      <td>服装</td>\n      <td>164</td>\n      <td>37</td>\n      <td>78</td>\n    </tr>\n    <tr>\n      <th>63</th>\n      <td>2023</td>\n      <td>财务部</td>\n      <td>食品</td>\n      <td>59</td>\n      <td>12</td>\n      <td>22</td>\n    </tr>\n  </tbody>\n</table>\n<p>64 rows × 6 columns</p>\n</div>"
     },
     "execution_count": 6,
     "metadata": {},
     "output_type": "execute_result"
    }
   ],
   "source": [
    "df"
   ],
   "metadata": {
    "collapsed": false
   }
  },
  {
   "cell_type": "raw",
   "source": [
    "app = JupyterDash(__name__)\n",
    "app.layout = html.Div([\n",
    "    # 1. 滑动条控件\n",
    "    dcc.RangeSlider(\n",
    "        min=2020,\n",
    "        max=2023,\n",
    "        step=1,\n",
    "        value=[2020, 2023],  # 范围值\n",
    "        marks={year: str(year) for year in [2020, 2021, 2022, 2023]},  # 明确指定年份\n",
    "        id='year-slider'  # 修改ID保持一致性\n",
    "    ),\n",
    "    dcc.Dropdown(\n",
    "        options=['销售部', '市场部', '技术部', '财务部'],\n",
    "        value=['销售部'],  # 多选时需要列表形式\n",
    "        multi=True,\n",
    "        id='dept-dropdown'\n",
    "    ),\n",
    "\n",
    "    dcc.Graph(id='sales-trend'),  # 注意ID与回调中一致\n",
    "])\n"
   ],
   "metadata": {
    "collapsed": false
   }
  },
  {
   "cell_type": "raw",
   "source": [
    "# 回调\n",
    "@app.callback(\n",
    "    Output('sales-trend', 'figure'),  # 修正ID中的下划线为短横线\n",
    "    [Input('year-slider', 'value'),\n",
    "     Input('dept-dropdown', 'value')]\n",
    ")\n",
    "def update_graph(selected_years, selected_depts):\n",
    "    # 筛选数据\n",
    "    df['年份'] = df['年份'].astype(int)\n",
    "    filtered_df = df[\n",
    "        (df['年份'] >= selected_years[0]) &\n",
    "        (df['年份'] <= selected_years[1]) &\n",
    "        (df['部门'].isin(selected_depts))\n",
    "    ]\n",
    "\n",
    "    sales_trend = px.line(\n",
    "        filtered_df.groupby(['年份', '部门'])['销售额'].sum().reset_index(),\n",
    "        x='年份',\n",
    "        y='销售额',\n",
    "        color='部门',\n",
    "        title='年度销售额趋势',\n",
    "        labels={'销售额': '销售额 (万元)'},\n",
    "\n",
    "        category_orders={\"年份\": [2020, 2021, 2022, 2023]},  # 指定分类顺序\n",
    "    )\n",
    "\n",
    "    sales_trend.update_xaxes(type='category')  # 强制设为分类轴\n",
    "    return sales_trend\n",
    "\n",
    "# 运行应用\n",
    "if __name__ == '__main__':\n",
    "    app.run_server(debug=True)"
   ],
   "metadata": {
    "collapsed": false
   }
  },
  {
   "cell_type": "markdown",
   "source": [
    "## 技巧1：页签在里，页签在外"
   ],
   "metadata": {
    "collapsed": false
   }
  },
  {
   "cell_type": "raw",
   "source": [
    "# 控件在页签里边\n",
    "app.layout = html.Div([\n",
    "    dcc.Tabs([\n",
    "        dcc.Tab(label='概览', value='tab1', children=[\n",
    "            # 概览页的筛选控件\n",
    "            dcc.RangeSlider(id='year-slider-tab1'),\n",
    "            dcc.Dropdown(id='dept-dropdown-tab1'),\n",
    "            # 图表\n",
    "            dcc.Graph(id='graph1'),\n",
    "        ]),\n",
    "        dcc.Tab(label='收入', value='tab2', children=[\n",
    "            # 收入页的筛选控件（重复定义）\n",
    "            dcc.RangeSlider(id='year-slider-tab2'),\n",
    "            dcc.Dropdown(id='dept-dropdown-tab2'),\n",
    "            # 图表\n",
    "            dcc.Graph(id='graph2'),\n",
    "        ]),\n",
    "    ])\n",
    "])"
   ],
   "metadata": {
    "collapsed": false
   }
  },
  {
   "cell_type": "raw",
   "source": [
    "# 控件在页签外面，全局控件\n",
    "app.layout = html.Div([\n",
    "    # 全局筛选控件（移到页签外）\n",
    "    dcc.RangeSlider(id='year-slider'),\n",
    "    dcc.Dropdown(id='dept-dropdown'),\n",
    "\n",
    "    dcc.Tabs([\n",
    "        dcc.Tab(label='概览', value='tab1', children=[\n",
    "            dcc.Graph(id='graph1'),  # 仅保留图表\n",
    "        ]),\n",
    "        dcc.Tab(label='收入', value='tab2', children=[\n",
    "            dcc.Graph(id='graph2'),  # 仅保留图表\n",
    "        ]),\n",
    "    ])\n",
    "])"
   ],
   "metadata": {
    "collapsed": false
   }
  },
  {
   "cell_type": "code",
   "execution_count": 7,
   "outputs": [
    {
     "ename": "NameError",
     "evalue": "name 'filtered_sales_amount' is not defined",
     "output_type": "error",
     "traceback": [
      "\u001B[0;31m---------------------------------------------------------------------------\u001B[0m",
      "\u001B[0;31mNameError\u001B[0m                                 Traceback (most recent call last)",
      "\u001B[0;32m/var/folders/wr/vtfm047n7mscqd51xnc6psym0000gn/T/ipykernel_8817/1868379452.py\u001B[0m in \u001B[0;36m<module>\u001B[0;34m\u001B[0m\n\u001B[0;32m----> 1\u001B[0;31m divide= filtered_df.groupby('产品类别').sum()[['销售额','利润']].apply(\n\u001B[0m\u001B[1;32m      2\u001B[0m         \u001B[0;32mlambda\u001B[0m \u001B[0mx\u001B[0m\u001B[0;34m:\u001B[0m \u001B[0mx\u001B[0m \u001B[0;34m/\u001B[0m \u001B[0mfiltered_sales_amount\u001B[0m  \u001B[0;32mif\u001B[0m \u001B[0mfiltered_sales_amount\u001B[0m \u001B[0;34m!=\u001B[0m \u001B[0;36m0\u001B[0m \u001B[0;32melse\u001B[0m \u001B[0;36m0\u001B[0m\u001B[0;34m\u001B[0m\u001B[0;34m\u001B[0m\u001B[0m\n\u001B[1;32m      3\u001B[0m     )\n\u001B[1;32m      4\u001B[0m \u001B[0mdivide\u001B[0m\u001B[0;34m\u001B[0m\u001B[0;34m\u001B[0m\u001B[0m\n",
      "\u001B[0;32m~/anaconda0412/anaconda3/lib/python3.9/site-packages/pandas/core/frame.py\u001B[0m in \u001B[0;36mapply\u001B[0;34m(self, func, axis, raw, result_type, args, **kwargs)\u001B[0m\n\u001B[1;32m   8846\u001B[0m             \u001B[0mkwargs\u001B[0m\u001B[0;34m=\u001B[0m\u001B[0mkwargs\u001B[0m\u001B[0;34m,\u001B[0m\u001B[0;34m\u001B[0m\u001B[0;34m\u001B[0m\u001B[0m\n\u001B[1;32m   8847\u001B[0m         )\n\u001B[0;32m-> 8848\u001B[0;31m         \u001B[0;32mreturn\u001B[0m \u001B[0mop\u001B[0m\u001B[0;34m.\u001B[0m\u001B[0mapply\u001B[0m\u001B[0;34m(\u001B[0m\u001B[0;34m)\u001B[0m\u001B[0;34m.\u001B[0m\u001B[0m__finalize__\u001B[0m\u001B[0;34m(\u001B[0m\u001B[0mself\u001B[0m\u001B[0;34m,\u001B[0m \u001B[0mmethod\u001B[0m\u001B[0;34m=\u001B[0m\u001B[0;34m\"apply\"\u001B[0m\u001B[0;34m)\u001B[0m\u001B[0;34m\u001B[0m\u001B[0;34m\u001B[0m\u001B[0m\n\u001B[0m\u001B[1;32m   8849\u001B[0m \u001B[0;34m\u001B[0m\u001B[0m\n\u001B[1;32m   8850\u001B[0m     def applymap(\n",
      "\u001B[0;32m~/anaconda0412/anaconda3/lib/python3.9/site-packages/pandas/core/apply.py\u001B[0m in \u001B[0;36mapply\u001B[0;34m(self)\u001B[0m\n\u001B[1;32m    731\u001B[0m             \u001B[0;32mreturn\u001B[0m \u001B[0mself\u001B[0m\u001B[0;34m.\u001B[0m\u001B[0mapply_raw\u001B[0m\u001B[0;34m(\u001B[0m\u001B[0;34m)\u001B[0m\u001B[0;34m\u001B[0m\u001B[0;34m\u001B[0m\u001B[0m\n\u001B[1;32m    732\u001B[0m \u001B[0;34m\u001B[0m\u001B[0m\n\u001B[0;32m--> 733\u001B[0;31m         \u001B[0;32mreturn\u001B[0m \u001B[0mself\u001B[0m\u001B[0;34m.\u001B[0m\u001B[0mapply_standard\u001B[0m\u001B[0;34m(\u001B[0m\u001B[0;34m)\u001B[0m\u001B[0;34m\u001B[0m\u001B[0;34m\u001B[0m\u001B[0m\n\u001B[0m\u001B[1;32m    734\u001B[0m \u001B[0;34m\u001B[0m\u001B[0m\n\u001B[1;32m    735\u001B[0m     \u001B[0;32mdef\u001B[0m \u001B[0magg\u001B[0m\u001B[0;34m(\u001B[0m\u001B[0mself\u001B[0m\u001B[0;34m)\u001B[0m\u001B[0;34m:\u001B[0m\u001B[0;34m\u001B[0m\u001B[0;34m\u001B[0m\u001B[0m\n",
      "\u001B[0;32m~/anaconda0412/anaconda3/lib/python3.9/site-packages/pandas/core/apply.py\u001B[0m in \u001B[0;36mapply_standard\u001B[0;34m(self)\u001B[0m\n\u001B[1;32m    855\u001B[0m \u001B[0;34m\u001B[0m\u001B[0m\n\u001B[1;32m    856\u001B[0m     \u001B[0;32mdef\u001B[0m \u001B[0mapply_standard\u001B[0m\u001B[0;34m(\u001B[0m\u001B[0mself\u001B[0m\u001B[0;34m)\u001B[0m\u001B[0;34m:\u001B[0m\u001B[0;34m\u001B[0m\u001B[0;34m\u001B[0m\u001B[0m\n\u001B[0;32m--> 857\u001B[0;31m         \u001B[0mresults\u001B[0m\u001B[0;34m,\u001B[0m \u001B[0mres_index\u001B[0m \u001B[0;34m=\u001B[0m \u001B[0mself\u001B[0m\u001B[0;34m.\u001B[0m\u001B[0mapply_series_generator\u001B[0m\u001B[0;34m(\u001B[0m\u001B[0;34m)\u001B[0m\u001B[0;34m\u001B[0m\u001B[0;34m\u001B[0m\u001B[0m\n\u001B[0m\u001B[1;32m    858\u001B[0m \u001B[0;34m\u001B[0m\u001B[0m\n\u001B[1;32m    859\u001B[0m         \u001B[0;31m# wrap results\u001B[0m\u001B[0;34m\u001B[0m\u001B[0;34m\u001B[0m\u001B[0m\n",
      "\u001B[0;32m~/anaconda0412/anaconda3/lib/python3.9/site-packages/pandas/core/apply.py\u001B[0m in \u001B[0;36mapply_series_generator\u001B[0;34m(self)\u001B[0m\n\u001B[1;32m    871\u001B[0m             \u001B[0;32mfor\u001B[0m \u001B[0mi\u001B[0m\u001B[0;34m,\u001B[0m \u001B[0mv\u001B[0m \u001B[0;32min\u001B[0m \u001B[0menumerate\u001B[0m\u001B[0;34m(\u001B[0m\u001B[0mseries_gen\u001B[0m\u001B[0;34m)\u001B[0m\u001B[0;34m:\u001B[0m\u001B[0;34m\u001B[0m\u001B[0;34m\u001B[0m\u001B[0m\n\u001B[1;32m    872\u001B[0m                 \u001B[0;31m# ignore SettingWithCopy here in case the user mutates\u001B[0m\u001B[0;34m\u001B[0m\u001B[0;34m\u001B[0m\u001B[0m\n\u001B[0;32m--> 873\u001B[0;31m                 \u001B[0mresults\u001B[0m\u001B[0;34m[\u001B[0m\u001B[0mi\u001B[0m\u001B[0;34m]\u001B[0m \u001B[0;34m=\u001B[0m \u001B[0mself\u001B[0m\u001B[0;34m.\u001B[0m\u001B[0mf\u001B[0m\u001B[0;34m(\u001B[0m\u001B[0mv\u001B[0m\u001B[0;34m)\u001B[0m\u001B[0;34m\u001B[0m\u001B[0;34m\u001B[0m\u001B[0m\n\u001B[0m\u001B[1;32m    874\u001B[0m                 \u001B[0;32mif\u001B[0m \u001B[0misinstance\u001B[0m\u001B[0;34m(\u001B[0m\u001B[0mresults\u001B[0m\u001B[0;34m[\u001B[0m\u001B[0mi\u001B[0m\u001B[0;34m]\u001B[0m\u001B[0;34m,\u001B[0m \u001B[0mABCSeries\u001B[0m\u001B[0;34m)\u001B[0m\u001B[0;34m:\u001B[0m\u001B[0;34m\u001B[0m\u001B[0;34m\u001B[0m\u001B[0m\n\u001B[1;32m    875\u001B[0m                     \u001B[0;31m# If we have a view on v, we need to make a copy because\u001B[0m\u001B[0;34m\u001B[0m\u001B[0;34m\u001B[0m\u001B[0m\n",
      "\u001B[0;32m/var/folders/wr/vtfm047n7mscqd51xnc6psym0000gn/T/ipykernel_8817/1868379452.py\u001B[0m in \u001B[0;36m<lambda>\u001B[0;34m(x)\u001B[0m\n\u001B[1;32m      1\u001B[0m divide= filtered_df.groupby('产品类别').sum()[['销售额','利润']].apply(\n\u001B[0;32m----> 2\u001B[0;31m         \u001B[0;32mlambda\u001B[0m \u001B[0mx\u001B[0m\u001B[0;34m:\u001B[0m \u001B[0mx\u001B[0m \u001B[0;34m/\u001B[0m \u001B[0mfiltered_sales_amount\u001B[0m  \u001B[0;32mif\u001B[0m \u001B[0mfiltered_sales_amount\u001B[0m \u001B[0;34m!=\u001B[0m \u001B[0;36m0\u001B[0m \u001B[0;32melse\u001B[0m \u001B[0;36m0\u001B[0m\u001B[0;34m\u001B[0m\u001B[0;34m\u001B[0m\u001B[0m\n\u001B[0m\u001B[1;32m      3\u001B[0m     )\n\u001B[1;32m      4\u001B[0m \u001B[0mdivide\u001B[0m\u001B[0;34m\u001B[0m\u001B[0;34m\u001B[0m\u001B[0m\n",
      "\u001B[0;31mNameError\u001B[0m: name 'filtered_sales_amount' is not defined"
     ]
    }
   ],
   "source": [
    "divide= filtered_df.groupby('产品类别').sum()[['销售额','利润']].apply(\n",
    "        lambda x: x / filtered_sales_amount  if filtered_sales_amount != 0 else 0\n",
    "    )\n",
    "divide"
   ],
   "metadata": {
    "collapsed": false
   }
  },
  {
   "cell_type": "code",
   "execution_count": null,
   "outputs": [],
   "source": [
    "divide['销售率']= filtered_df.groupby('产品类别').sum()['销售额'].apply(\n",
    "        lambda x: x / filtered_sales_amount  if filtered_sales_amount != 0 else 0\n",
    "    )\n",
    "divide"
   ],
   "metadata": {
    "collapsed": false
   }
  },
  {
   "cell_type": "code",
   "execution_count": null,
   "outputs": [],
   "source": [
    "# 计算销售额占比（注意响应控件、无需响应筛选计算）\n",
    "filtered_df_sum1=filtered_df.groupby(['年份','部门','产品类别']).agg({'客户数':'sum','销售额':'sum','利润':'sum'}).reset_index()\n",
    "filtered_df_sum1"
   ],
   "metadata": {
    "collapsed": false
   }
  },
  {
   "cell_type": "code",
   "execution_count": null,
   "outputs": [],
   "source": [
    "filtered_sales_amount = filtered_df.groupby(['年份','部门']).sum()['销售额'].reset_index() # 某类别销售额 / 总销售额\n",
    "filtered_sales_amount = filtered_sales_amount.rename(columns={'销售额': '部门总销售额'})\n",
    "filtered_sales_amount"
   ],
   "metadata": {
    "collapsed": false
   }
  },
  {
   "cell_type": "code",
   "execution_count": null,
   "outputs": [],
   "source": [
    "filtered_df_sum1_merged = filtered_df_sum1.merge(filtered_sales_amount,how = 'left',on=['年份', '部门'])\n",
    "filtered_df_sum1_merged"
   ],
   "metadata": {
    "collapsed": false
   }
  },
  {
   "cell_type": "code",
   "execution_count": null,
   "outputs": [],
   "source": [
    "filtered_df_sum1_merged['销售率'] = (filtered_df_sum1_merged['销售额'] / filtered_df_sum1_merged['部门总销售额']).apply(lambda x: f\"{x*100:.2f}%\")\n",
    "filtered_df_sum1_merged['利润率'] = (filtered_df_sum1_merged['利润'] / filtered_df_sum1_merged['部门总销售额']).apply(lambda x: f\"{x*100:.2f}%\")\n",
    "filtered_df_sum1_merged\n",
    "filtered_df_sum1_merged"
   ],
   "metadata": {
    "collapsed": false
   }
  },
  {
   "cell_type": "code",
   "execution_count": null,
   "outputs": [],
   "source": [
    "# 修改格式\n",
    "filtered_df_sum = filtered_df_sum1_merged.drop('部门总销售额',axis = 1,inplace = False)\n",
    "filtered_df_sum"
   ],
   "metadata": {
    "collapsed": false
   }
  },
  {
   "cell_type": "raw",
   "source": [
    "经营分析（Operational Analysis）\n",
    "\n",
    "Operational Performance Metrics（运营绩效指标）\n",
    "Process Efficiency Dashboard（流程效率仪表盘）\n",
    "Resource Utilization Analysis（资源利用分析）\n",
    "Operational KPI Tracking（运营关键绩效指标跟踪）\n",
    "Productivity Benchmarking（生产力基准评估）\n",
    "业务分析（Business Analysis）\n",
    "\n",
    "Business Performance Overview（业务绩效概览）\n",
    "Market Share Analysis（市场份额分析）\n",
    "Revenue Growth Trends（收入增长趋势）\n",
    "Customer Acquisition Cost（客户获取成本）\n",
    "Profit Margin Analysis（利润率分析）\n",
    "运输分析（Transportation Analysis）\n",
    "\n",
    "Logistics Performance Metrics（物流绩效指标）\n",
    "Route Optimization Dashboard（路线优化仪表盘）\n",
    "Freight Cost Analysis（货运成本分析）\n",
    "Delivery Time Tracking（交付时间跟踪）\n",
    "Fleet Utilization Report（车队利用率报告）\n",
    "成本分析（Cost Analysis）\n",
    "\n",
    "Cost Breakdown Structure（成本分解结构）\n",
    "Variable vs Fixed Costs（可变成本与固定成本）\n",
    "Cost-Benefit Analysis（成本效益分析）\n",
    "Cost Optimization Dashboard（成本优化仪表盘）\n",
    "Budget Variance Analysis（预算差异分析）"
   ],
   "metadata": {
    "collapsed": false
   }
  },
  {
   "cell_type": "code",
   "execution_count": null,
   "outputs": [],
   "source": [],
   "metadata": {
    "collapsed": false
   }
  },
  {
   "cell_type": "code",
   "execution_count": null,
   "outputs": [],
   "source": [
    "Operational_data =pd.read_excel('/Users/shibo/pythonProject1/可视化/business_perfomance.xlsx',\n",
    "                                usecols = ['公司名称', '客户编码', '项目编码', '承运商编码', '货物名称', '所属行业', '所属事业部','业务发生结算月份','订单量','运单数量','总收入（不含税）',\n",
    "                                '运单量','网货订单收入','调整-网货订单支出（不含税）','调整-网货利润（不含税）','运费.1', '保险费.1', '装卸费.1', '平台服务费', '其他费用.1', '系统管理费',\n",
    "                                 '运单量.1','非网货订单收入','调整-非网货订单支出（不含税）','调整-非网货利润（不含税）','运费.2', '保险费.2', '系统管理费.1', '装卸费.2','其他费用.2',\n",
    "                                  '总成本（不含税）','调整-总利润（不含税）'])\n",
    "Operational_data.head(10)"
   ],
   "metadata": {
    "collapsed": false
   }
  },
  {
   "cell_type": "code",
   "execution_count": null,
   "outputs": [],
   "source": [
    "Operational_data=Operational_data.rename(columns ={'运单数量':'总运单量','运单量':'运单量.1','运单量.1':'运单量.2',\n",
    "                                  '系统管理费':'系统管理费.1','系统管理费.1':'系统管理费.2','平台服务费':'平台服务费.1','调整-总利润（不含税）':'总利润（不含税）','调整-网货利润（不含税）':'网货利润（不含税）','调整-非网货利润（不含税）':'非网货利润（不含税）','调整-网货订单支出（不含税）':'网货支出（不含税）','调整-非网货订单支出（不含税）':'非网货支出（不含税）','网货订单收入':'网货收入','非网货订单收入':'非网货收入'})"
   ],
   "metadata": {
    "collapsed": false
   }
  },
  {
   "cell_type": "code",
   "execution_count": null,
   "outputs": [],
   "source": [
    "Operational_data.columns"
   ],
   "metadata": {
    "collapsed": false
   }
  },
  {
   "cell_type": "code",
   "execution_count": null,
   "outputs": [],
   "source": [
    "Operational_data= Operational_data.reindex(columns=['公司名称', '客户编码', '项目编码', '承运商编码', '货物名称', '所属行业', '所属事业部', '业务发生结算月份',\n",
    "                                  '订单量','总运单量','总收入（不含税）','总成本（不含税）','总利润（不含税）',\n",
    "                                  '网货收入','网货支出（不含税）','网货利润（不含税）',\n",
    "                                  '非网货收入','非网货支出（不含税）','非网货利润（不含税）',\n",
    "                                  '运单量.1','运费.1', '保险费.1', '装卸费.1','系统管理费.1','其他费用.1','平台服务费.1',\n",
    "                                  '运单量.2','运费.2', '保险费.2','装卸费.2','系统管理费.2', '其他费用.2'])\n",
    "Operational_data"
   ],
   "metadata": {
    "collapsed": false
   }
  },
  {
   "cell_type": "code",
   "execution_count": null,
   "outputs": [],
   "source": [
    "l = 845450.21/1.09 + 0/1.06 +11308.44/1.09+1505.03/1.09\n",
    "l"
   ],
   "metadata": {
    "collapsed": false
   }
  },
  {
   "cell_type": "code",
   "execution_count": null,
   "outputs": [],
   "source": [
    "Operational_data.loc[:,'网货收入（不含税）'] = Operational_data['网货收入']/1.09\n",
    "Operational_data.loc[:,'非网货收入（不含税）'] = Operational_data['非网货收入']/1.09\n",
    "\n",
    "Operational_data.loc[:,'运费（不含税）.1'] = Operational_data['运费.1']/1.09\n",
    "Operational_data.loc[:,'装卸费（不含税）.1'] = Operational_data['装卸费.1']/1.09\n",
    "Operational_data.loc[:,'系统管理费（不含税）.1'] = Operational_data['系统管理费.1']/1.09\n",
    "Operational_data.loc[:,'其他费用（不含税）.1'] = Operational_data['其他费用.1']/1.09\n",
    "Operational_data.loc[:,'平台服务费（不含税）.1'] = Operational_data['平台服务费.1']/1.09\n",
    "Operational_data.loc[:,'保险费（不含税）.1'] = Operational_data['保险费.1']/1.06\n",
    "\n",
    "Operational_data.loc[:,'运费（不含税）.2'] = Operational_data['运费.2']/1.09\n",
    "Operational_data.loc[:,'装卸费（不含税）.2'] = Operational_data['装卸费.2']/1.09\n",
    "Operational_data.loc[:,'系统管理费（不含税）.2'] = Operational_data['系统管理费.2']/1.09\n",
    "Operational_data.loc[:,'其他费用（不含税）.2'] = Operational_data['其他费用.2']/1.09\n",
    "Operational_data.loc[:,'保险费（不含税）.2'] = Operational_data['保险费.2']/1.06\n",
    "\n"
   ],
   "metadata": {
    "collapsed": false
   }
  },
  {
   "cell_type": "code",
   "execution_count": null,
   "outputs": [],
   "source": [
    "Operational_data.drop(['网货收入','非网货收入','运费.1','装卸费.1','系统管理费.1','其他费用.1','平台服务费.1','保险费.1',\n",
    "                                          '运费.2','装卸费.2','系统管理费.2','其他费用.2','保险费.2'],axis = 1,inplace=True)\n",
    "Operational_data"
   ],
   "metadata": {
    "collapsed": false
   }
  },
  {
   "cell_type": "raw",
   "source": [
    "# processed_data['kpi_data']\n",
    "kpi = pd.read_excel('/Users/shibo/pythonProject1/可视化/KPI_tracking.xlsx', sheet_name='Sheet1')\n",
    "operational = pd.read_excel('/Users/shibo/pythonProject1/可视化/operational_data.xlsx', sheet_name='Sheet1')\n",
    "\n",
    "operational"
   ],
   "metadata": {
    "collapsed": false
   }
  },
  {
   "cell_type": "raw",
   "source": [
    "dept = department = kpi['部门'].unique().tolist()\n",
    "dept"
   ],
   "metadata": {
    "collapsed": false
   }
  },
  {
   "cell_type": "code",
   "execution_count": null,
   "outputs": [],
   "source": [
    "selected_depts = ['合营事业部', '供应链事业部']\n",
    "# ['合营事业部', '供应链事业部', '快递快运事业部']"
   ],
   "metadata": {
    "collapsed": false
   }
  },
  {
   "cell_type": "code",
   "execution_count": null,
   "outputs": [],
   "source": [
    "filtered_data_kpi_target = processed_data['kpi_data'][\n",
    "        processed_data['kpi_data']['部门'].isin(selected_depts)]\n",
    "\n",
    "filtered_data_kpi_actual = processed_data['operational_data'][processed_data['operational_data']['所属事业部'].isin(selected_depts)]"
   ],
   "metadata": {
    "collapsed": false
   }
  },
  {
   "cell_type": "raw",
   "source": [
    "from datetime import datetime,date,timedelta\n",
    "datetime.now().strftime('%Y-%m')\n",
    "\n",
    "Month = pd.Timestamp(datetime.now()).to_period('M')\n",
    "Month"
   ],
   "metadata": {
    "collapsed": false
   }
  },
  {
   "cell_type": "code",
   "execution_count": null,
   "outputs": [],
   "source": [
    "from datetime import datetime,date,timedelta\n",
    "from datetime import date\n",
    "from dateutil.relativedelta import relativedelta\n",
    "\n",
    "current_year_month = date.today() - relativedelta(years=2)\n",
    "current_year_month.year ,current_year_month.month"
   ],
   "metadata": {
    "collapsed": false
   }
  },
  {
   "cell_type": "code",
   "execution_count": null,
   "outputs": [],
   "source": [
    "filtered_data_kpi_target['时间'].iloc[0] #"
   ],
   "metadata": {
    "collapsed": false
   }
  },
  {
   "cell_type": "code",
   "execution_count": null,
   "outputs": [],
   "source": [
    "# 计算汇总数据(目标值）原表为字符串格式 pd.to_datetime + .dt.year\n",
    "mask_month_target = (pd.to_datetime(filtered_data_kpi_target['时间']).dt.year == current_year_month.year) & (pd.to_datetime(filtered_data_kpi_target['时间']).dt.month == current_year_month.month)\n",
    "\n",
    "monthly_income_target = filtered_data_kpi_target['收入目标'][mask_month_target].sum()\n",
    "monthly_profit_target = filtered_data_kpi_target['利润目标'][mask_month_target].sum()\n",
    "monthly_income_target, monthly_profit_target"
   ],
   "metadata": {
    "collapsed": false
   }
  },
  {
   "cell_type": "code",
   "execution_count": null,
   "outputs": [],
   "source": [
    "mask_year_target = pd.to_datetime(filtered_data_kpi_target['时间']).dt.year == current_year_month.year\n",
    "\n",
    "yearly_income_target = filtered_data_kpi_target['收入目标'][mask_year_target].sum()\n",
    "yearly_profit_target = filtered_data_kpi_target['利润目标'][mask_year_target].sum()\n",
    "yearly_income_target ,yearly_profit_target"
   ],
   "metadata": {
    "collapsed": false
   }
  },
  {
   "cell_type": "code",
   "execution_count": null,
   "outputs": [],
   "source": [
    "filtered_data_kpi_actual['总利润']"
   ],
   "metadata": {
    "collapsed": false
   }
  },
  {
   "cell_type": "code",
   "execution_count": null,
   "outputs": [],
   "source": [
    "# 计算汇总数据(完成值）原表为字符串格式 pd.to_datetime + .dt.year\n",
    "\n",
    "mask_month_actual = (pd.to_datetime(filtered_data_kpi_actual['业务发生结算月份']).dt.year == current_year_month.year) & (pd.to_datetime(filtered_data_kpi_actual['业务发生结算月份']).dt.month == current_year_month.month)\n",
    "\n",
    "monthly_income_actual = filtered_data_kpi_actual['总收入'][mask_month_actual].sum()/10000\n",
    "monthly_profit_actual = filtered_data_kpi_actual['总利润'][mask_month_actual].sum()/10000\n",
    "monthly_income_actual ,monthly_profit_actual"
   ],
   "metadata": {
    "collapsed": false
   }
  },
  {
   "cell_type": "code",
   "execution_count": null,
   "outputs": [],
   "source": [
    "mask_year__actual = pd.to_datetime(filtered_data_kpi_actual['业务发生结算月份']).dt.year == current_year_month.year\n",
    "\n",
    "yearly_income_actual = filtered_data_kpi_actual['总收入'][mask_year__actual].sum()/10000\n",
    "yearly_profit_actual = filtered_data_kpi_actual['总利润'][mask_year__actual].sum()/10000\n",
    "yearly_income_actual,yearly_profit_actual"
   ],
   "metadata": {
    "collapsed": false
   }
  },
  {
   "cell_type": "code",
   "execution_count": 10,
   "outputs": [
    {
     "name": "stdout",
     "output_type": "stream",
     "text": [
      "hel\n"
     ]
    }
   ],
   "source": [
    "from datetime import datetime as dt,date\n",
    "\n",
    "# 今日日期\n",
    "t1 = datetime.now() # datetime.datetime(2025, 6, 9, 9, 11, 34, 39457)\n",
    "t2 = dt.now() # 可以 datetime.datetime(2025, 6, 9, 9, 9, 39, 334049)\n",
    "t3 = dt.today() # 可以 datetime.datetime(2025, 6, 9, 9, 26, 0, 672594)\n",
    "\n",
    "# datetime(now()) # 错 NameError: name 'now' is not defined\n",
    "\n",
    "print(t2.day) # 仅数字\n",
    "print(dt.today().date()),print(date.today()) # date.和.date()"
   ],
   "metadata": {
    "collapsed": false
   }
  },
  {
   "cell_type": "code",
   "execution_count": null,
   "outputs": [],
   "source": [
    "!pip install dateutil"
   ],
   "metadata": {
    "collapsed": false
   }
  },
  {
   "cell_type": "code",
   "execution_count": 8,
   "outputs": [
    {
     "data": {
      "text/plain": "datetime.datetime(2024, 6, 13, 15, 32, 30, 452447)"
     },
     "execution_count": 8,
     "metadata": {},
     "output_type": "execute_result"
    }
   ],
   "source": [
    "from datetime import datetime as dt , date\n",
    "from dateutil import relativedelta\n",
    "end_date = dt.now()\n",
    "start_date = end_date - relativedelta(days=365)\n",
    "start_date"
   ],
   "metadata": {
    "collapsed": false
   }
  },
  {
   "cell_type": "code",
   "execution_count": 9,
   "outputs": [
    {
     "data": {
      "text/plain": "DatetimeIndex(['2024-06-30 15:32:30.452447', '2024-07-31 15:32:30.452447',\n               '2024-08-31 15:32:30.452447', '2024-09-30 15:32:30.452447',\n               '2024-10-31 15:32:30.452447', '2024-11-30 15:32:30.452447',\n               '2024-12-31 15:32:30.452447', '2025-01-31 15:32:30.452447',\n               '2025-02-28 15:32:30.452447', '2025-03-31 15:32:30.452447',\n               '2025-04-30 15:32:30.452447', '2025-05-31 15:32:30.452447'],\n              dtype='datetime64[ns]', freq='M')"
     },
     "execution_count": 9,
     "metadata": {},
     "output_type": "execute_result"
    }
   ],
   "source": [
    "date_range = pd.date_range(start_date, end_date, freq='M')\n",
    "months = [date.strftime('%Y-%m') for date in date_range][-12:]"
   ],
   "metadata": {
    "collapsed": false
   }
  }
 ],
 "metadata": {
  "kernelspec": {
   "display_name": "Python 3",
   "language": "python",
   "name": "python3"
  },
  "language_info": {
   "codemirror_mode": {
    "name": "ipython",
    "version": 2
   },
   "file_extension": ".py",
   "mimetype": "text/x-python",
   "name": "python",
   "nbconvert_exporter": "python",
   "pygments_lexer": "ipython2",
   "version": "2.7.6"
  }
 },
 "nbformat": 4,
 "nbformat_minor": 0
}
