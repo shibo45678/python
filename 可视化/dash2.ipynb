{
 "cells": [
  {
   "cell_type": "code",
   "execution_count": null,
   "metadata": {
    "collapsed": true,
    "pycharm": {
     "is_executing": true
    }
   },
   "outputs": [],
   "source": [
    "import dash\n",
    "\n"
   ]
  },
  {
   "cell_type": "code",
   "execution_count": null,
   "outputs": [],
   "source": [
    "from datetime import datetime as dt , timedelta\n",
    "import pandas as pd\n",
    "\n",
    "end_date = dt.now()\n",
    "start_date = end_date - timedelta(days=365)\n",
    "date_range = pd.date_range(start_date, end_date, freq='M')\n",
    "date_range"
   ],
   "metadata": {
    "collapsed": false,
    "pycharm": {
     "is_executing": true
    }
   }
  },
  {
   "cell_type": "code",
   "execution_count": 2,
   "outputs": [
    {
     "data": {
      "text/plain": "['2024-06',\n '2024-07',\n '2024-08',\n '2024-09',\n '2024-10',\n '2024-11',\n '2024-12',\n '2025-01',\n '2025-02',\n '2025-03',\n '2025-04',\n '2025-05']"
     },
     "execution_count": 2,
     "metadata": {},
     "output_type": "execute_result"
    }
   ],
   "source": [
    "# 从date_range里面遍历出倒数12个数[-12:]\n",
    "months = [f\"{date.year}-{date.month:02d}\" for date in date_range][-12:]\n",
    "months"
   ],
   "metadata": {
    "collapsed": false
   }
  },
  {
   "cell_type": "code",
   "execution_count": null,
   "outputs": [],
   "source": [],
   "metadata": {
    "collapsed": false
   }
  },
  {
   "cell_type": "code",
   "execution_count": 4,
   "outputs": [
    {
     "data": {
      "text/plain": "['2024-06',\n '2024-07',\n '2024-08',\n '2024-09',\n '2024-10',\n '2024-11',\n '2024-12',\n '2025-01',\n '2025-02',\n '2025-03',\n '2025-04',\n '2025-05']"
     },
     "execution_count": 4,
     "metadata": {},
     "output_type": "execute_result"
    }
   ],
   "source": [],
   "metadata": {
    "collapsed": false
   }
  },
  {
   "cell_type": "code",
   "execution_count": null,
   "outputs": [],
   "source": [],
   "metadata": {
    "collapsed": false
   }
  }
 ],
 "metadata": {
  "kernelspec": {
   "display_name": "Python 3",
   "language": "python",
   "name": "python3"
  },
  "language_info": {
   "codemirror_mode": {
    "name": "ipython",
    "version": 2
   },
   "file_extension": ".py",
   "mimetype": "text/x-python",
   "name": "python",
   "nbconvert_exporter": "python",
   "pygments_lexer": "ipython2",
   "version": "2.7.6"
  }
 },
 "nbformat": 4,
 "nbformat_minor": 0
}
